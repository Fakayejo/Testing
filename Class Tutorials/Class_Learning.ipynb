{
 "cells": [
  {
   "cell_type": "code",
   "execution_count": null,
   "id": "0277a0c6",
   "metadata": {},
   "outputs": [
    {
     "ename": "SyntaxError",
     "evalue": "expected ':' (2100996953.py, line 36)",
     "output_type": "error",
     "traceback": [
      "  \u001b[36mCell\u001b[39m\u001b[36m \u001b[39m\u001b[32mIn[37]\u001b[39m\u001b[32m, line 36\u001b[39m\n\u001b[31m    \u001b[39m\u001b[31mif age>=18\u001b[39m\n              ^\n\u001b[31mSyntaxError\u001b[39m\u001b[31m:\u001b[39m expected ':'\n"
     ]
    }
   ],
   "source": [
    "#1.Printing Comments and Variables in a single line\n",
    "\n",
    "name = \"John\"\n",
    "age = 20\n",
    "color = \"Blue\"\n",
    "print(f\"My name is {name},I am {age}years old, and my favourite color is {color}\")\n",
    "\n",
    "#2.Data type and casting\n",
    "x = \"100\"\n",
    "y = int(x)\n",
    "z = float(x)\n",
    "print(y)\n",
    "print(z)\n",
    "print(type(y))\n",
    "print(type(z))\n",
    "\n",
    "#3.Numbers and operators\n",
    "A = 15\n",
    "B = 14\n",
    "print(A+B)\n",
    "print(A-B)\n",
    "print(A*B)\n",
    "print(A/B)\n",
    "print(A//B)\n",
    "print(A%B)\n",
    "print(A^B)\n",
    "\n",
    "#4. Create a string\n",
    "str = \"Python is fun\"\n",
    "print(len(str))\n",
    "print(str[0--6])\n",
    "print()\n",
    "\n",
    "#5. Booleans\n",
    "age = input(\"enter your age\")\n",
    "if age>=18\n",
    "print(\"You are an adult\")\n",
    "else:\n",
    "print (\"You re a minor\")\n",
    "\n",
    "#6. list of fruits\n",
    "fruit = [\"apple\",\"mangos\",\"pear\",\"walnut\",\"cashew\"]\n",
    "fruit1 = fruit.add(\"banana\")\n",
    "print(fruit1)\n",
    "fruit2 = fruit.remove(\"mangos\")\n",
    "print(fruit2)\n",
    "print(fruit[0])\n",
    "\n",
    "#7. Tuple, Set, Dictionary\n",
    "P_lang = (\"C++\",\"Java\",\"Python\",\"Django\")\n",
    "print(P_lang[1])\n",
    "Sets = [1,2,3,3,4,5]\n",
    "print(Sets)\n",
    "\n",
    "\n",
    "\n"
   ]
  },
  {
   "cell_type": "code",
   "execution_count": 58,
   "id": "865fcd38",
   "metadata": {},
   "outputs": [
    {
     "name": "stdout",
     "output_type": "stream",
     "text": [
      "1: is odd number\n",
      "2: is even number\n",
      "3: is odd number\n",
      "4: is even number\n",
      "5: is odd number\n",
      "6: is even number\n",
      "7: is odd number\n",
      "8: is even number\n",
      "9: is odd number\n",
      "10: is even number\n"
     ]
    }
   ],
   "source": [
    "Nums = [1,2,3,4,5,6,7,8,9,10]\n",
    "for Num in Nums:\n",
    "    if Num % 2 ==1:\n",
    "        print(f\"{Num}: is odd number\")\n",
    "    else:\n",
    "        print(f\"{Num}: is even number\")\n"
   ]
  },
  {
   "cell_type": "code",
   "execution_count": 72,
   "id": "5abbb7b9",
   "metadata": {},
   "outputs": [
    {
     "name": "stdout",
     "output_type": "stream",
     "text": [
      "failed\n",
      "passed\n",
      "passed\n",
      "Goke scored 80 marks\n"
     ]
    }
   ],
   "source": [
    "Students = {\"John\":40,\n",
    "           \"James\":90,\n",
    "           \"Goke\":80}\n",
    "for name, scores in Students.items():\n",
    "    if scores > 50:\n",
    "        print(\"passed\")\n",
    "    else:\n",
    "        print(\"failed\")\n",
    "print(f\"{name} scored {scores} marks\")"
   ]
  },
  {
   "cell_type": "code",
   "execution_count": null,
   "id": "6e8b109b",
   "metadata": {},
   "outputs": [
    {
     "name": "stdout",
     "output_type": "stream",
     "text": [
      "Choose from items\n"
     ]
    }
   ],
   "source": [
    "#10\n",
    "Items = [\"Milk\",\"Bread\",\"Eggs\"]\n",
    "Price = {\"Milk\":60,\"Bread\":90,\"Eggs\":40}\n",
    "User = input(\"Two items you buying: \")\n",
    "User1 =input(\"Two items you buying: \")\n",
    "if User != Items and User1 != Items:\n",
    "    print(\"Choose from items\")\n",
    "else:\n",
    "   \n",
    "\n",
    "\n",
    "\n",
    "    "
   ]
  },
  {
   "cell_type": "code",
   "execution_count": 78,
   "id": "6d1a1e25",
   "metadata": {},
   "outputs": [
    {
     "name": "stdout",
     "output_type": "stream",
     "text": [
      "mmm\n",
      "kkk\n"
     ]
    }
   ],
   "source": [
    "User = input(\"Two items you buying: \")\n",
    "User1 = input(\"Two items you buying: \")\n",
    "print(User)\n",
    "print(User1)\n"
   ]
  },
  {
   "cell_type": "code",
   "execution_count": null,
   "id": "daca1ec4",
   "metadata": {},
   "outputs": [
    {
     "name": "stdout",
     "output_type": "stream",
     "text": [
      "Java\n",
      "{1, 2, 3, 4, 5}\n",
      "dict_values([['Michael,james'], [29, 33], ['France', 'Japan']])\n"
     ]
    },
    {
     "data": {
      "text/plain": [
       "['Michael,james']"
      ]
     },
     "execution_count": 53,
     "metadata": {},
     "output_type": "execute_result"
    }
   ],
   "source": [
    "#7. Tuple, Set, Dictionary\n",
    "P_lang = (\"C++\",\"Java\",\"Python\",\"Django\")\n",
    "print(P_lang[1])\n",
    "Sets = {1,2,3,3,4,5}\n",
    "print(Sets)\n",
    "Dicts = {\"Name\":[\"Michael,james\"],\n",
    "         \"Age\":[29,33],\n",
    "         \"country\":[\"France\",\"Japan\"]}\n",
    "print(Dicts.values())\n",
    "Dicts[Name]"
   ]
  }
 ],
 "metadata": {
  "kernelspec": {
   "display_name": "web",
   "language": "python",
   "name": "python3"
  },
  "language_info": {
   "codemirror_mode": {
    "name": "ipython",
    "version": 3
   },
   "file_extension": ".py",
   "mimetype": "text/x-python",
   "name": "python",
   "nbconvert_exporter": "python",
   "pygments_lexer": "ipython3",
   "version": "3.13.7"
  }
 },
 "nbformat": 4,
 "nbformat_minor": 5
}
