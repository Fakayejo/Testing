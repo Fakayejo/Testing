{
 "cells": [
  {
   "cell_type": "code",
   "execution_count": 4,
   "id": "0277a0c6",
   "metadata": {},
   "outputs": [
    {
     "name": "stdout",
     "output_type": "stream",
     "text": [
      "<class 'int'>\n",
      "<class 'float'>\n",
      "<class 'str'>\n",
      "<class 'bool'>\n"
     ]
    }
   ],
   "source": [
    "#Assign Variables\n",
    "Var1 = 5\n",
    "Var2 = 5.4\n",
    "Var3 = \"Adesola2\"\n",
    "Var4 = True\n",
    "\n",
    "print(type(Var1))\n",
    "print(type(Var2))\n",
    "print(type(Var3))\n",
    "print(type(Var4))"
   ]
  },
  {
   "cell_type": "code",
   "execution_count": null,
   "id": "c0c972fd",
   "metadata": {},
   "outputs": [
    {
     "name": "stdout",
     "output_type": "stream",
     "text": [
      "1\n"
     ]
    }
   ],
   "source": [
    "Jim = (1,2,3,4,5)\n",
    "print(Jim[0])"
   ]
  }
 ],
 "metadata": {
  "kernelspec": {
   "display_name": "web",
   "language": "python",
   "name": "python3"
  },
  "language_info": {
   "codemirror_mode": {
    "name": "ipython",
    "version": 3
   },
   "file_extension": ".py",
   "mimetype": "text/x-python",
   "name": "python",
   "nbconvert_exporter": "python",
   "pygments_lexer": "ipython3",
   "version": "3.13.7"
  }
 },
 "nbformat": 4,
 "nbformat_minor": 5
}
